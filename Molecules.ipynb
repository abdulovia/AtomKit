{
  "nbformat": 4,
  "nbformat_minor": 0,
  "metadata": {
    "colab": {
      "provenance": [],
      "gpuType": "T4"
    },
    "kernelspec": {
      "name": "python3",
      "display_name": "Python 3"
    },
    "language_info": {
      "name": "python"
    },
    "accelerator": "GPU"
  },
  "cells": [
    {
      "cell_type": "code",
      "execution_count": 1,
      "metadata": {
        "id": "Hnd0DhCB6VJA"
      },
      "outputs": [],
      "source": [
        "import torch\n",
        "import torch.nn as nn\n",
        "from torch.nn import Conv2d\n",
        "import skimage\n",
        "import skimage.io\n",
        "from skimage.color import rgb2gray\n",
        "import matplotlib.pyplot as plt\n",
        "from skimage.transform import rescale\n",
        "import torch\n",
        "import torchvision\n",
        "import torchvision.transforms as transforms\n",
        "import numpy as np\n",
        "import torch.optim as optim\n",
        "from torchvision import models\n",
        "from torch.utils.tensorboard import SummaryWriter\n",
        "from torchvision.models import resnet18\n",
        "import os\n",
        "import skimage\n",
        "import skimage.io\n",
        "from skimage.color import rgb2gray\n",
        "import matplotlib.pyplot as plt\n",
        "from skimage.transform import rescale\n",
        "from skimage import data\n",
        "import pandas as pd\n",
        "import PIL\n",
        "import tensorflow as tf\n",
        "from PIL import Image\n",
        "\n",
        "\n",
        "from tqdm.notebook import trange, tqdm\n",
        "\n",
        "from sklearn.model_selection import train_test_split"
      ]
    },
    {
      "cell_type": "code",
      "source": [
        "from google.colab import drive\n",
        "drive.mount('/content/drive/')"
      ],
      "metadata": {
        "colab": {
          "base_uri": "https://localhost:8080/"
        },
        "id": "A9V7Q9Jm6ZLj",
        "outputId": "4895e5b4-2aae-4c65-a49d-1d66d0909b82"
      },
      "execution_count": 2,
      "outputs": [
        {
          "output_type": "stream",
          "name": "stdout",
          "text": [
            "Mounted at /content/drive/\n"
          ]
        }
      ]
    },
    {
      "cell_type": "code",
      "source": [
        "val_transform = transforms.Compose([\n",
        "    transforms.Resize(224),\n",
        "    transforms.RandomAffine(180),\n",
        "    transforms.RandomCrop(224),\n",
        "    transforms.ToTensor(),\n",
        "    transforms.Normalize(mean=[0.485, 0.456, 0.406], std=[0.229, 0.224, 0.225])\n",
        "])"
      ],
      "metadata": {
        "id": "yRXkuQoH6fro"
      },
      "execution_count": 3,
      "outputs": []
    },
    {
      "cell_type": "code",
      "source": [
        "batch_size = 200"
      ],
      "metadata": {
        "id": "a-dOmujK6iCM"
      },
      "execution_count": 4,
      "outputs": []
    },
    {
      "cell_type": "code",
      "source": [
        "device = 'cuda' if torch.cuda.is_available() else 'cpu'\n",
        "print('Using {} device'.format(device))"
      ],
      "metadata": {
        "colab": {
          "base_uri": "https://localhost:8080/"
        },
        "id": "9oDpZ4MR6k3e",
        "outputId": "6eb293a7-79e3-418c-e1a4-a7c37487d3f8"
      },
      "execution_count": 5,
      "outputs": [
        {
          "output_type": "stream",
          "name": "stdout",
          "text": [
            "Using cuda device\n"
          ]
        }
      ]
    },
    {
      "cell_type": "code",
      "source": [
        "def eval_metrics(model, loader, criterion):\n",
        "    with torch.no_grad():\n",
        "        epoch_val_accuracy=0\n",
        "        epoch_val_loss =0\n",
        "        for data, label in loader:\n",
        "            data = data.to(device)\n",
        "            label = label.to(device)\n",
        "\n",
        "            val_output = model(data)\n",
        "            val_loss = criterion(val_output,label)\n",
        "\n",
        "\n",
        "            acc = ((val_output.argmax(dim=1) == label).float().mean())\n",
        "            epoch_val_accuracy += acc/ len(loader)\n",
        "            epoch_val_loss += val_loss/ len(loader)"
      ],
      "metadata": {
        "id": "c69F-E1Z6me5"
      },
      "execution_count": 6,
      "outputs": []
    },
    {
      "cell_type": "code",
      "source": [
        "model = torch.load(\"/content/drive/MyDrive/model.pt\")"
      ],
      "metadata": {
        "id": "ggfVQvf56nJm"
      },
      "execution_count": 7,
      "outputs": []
    },
    {
      "cell_type": "code",
      "source": [
        "TEST_DIRECTORY = '/content/drive/MyDrive/data/test'\n",
        "\n",
        "class Molecules_test(torch.utils.data.Dataset):\n",
        "    def __init__(self, imgs, transforms = None):\n",
        "\n",
        "        super().__init__()\n",
        "        self.imgs = imgs\n",
        "        self.transforms = transforms\n",
        "\n",
        "    def __getitem__(self, idx):\n",
        "\n",
        "        image_name = self.imgs[idx]\n",
        "\n",
        "        img = Image.open(TEST_DIRECTORY + \"/\" + image_name)\n",
        "\n",
        "        label_name = image_name.split('.')[0]\n",
        "\n",
        "        ### Apply Transforms on image\n",
        "        img = self.transforms(img)\n",
        "\n",
        "        return img, label_name\n",
        "\n",
        "\n",
        "    def __len__(self):\n",
        "        return len(self.imgs)"
      ],
      "metadata": {
        "id": "Nr9kJ7ML6rXv"
      },
      "execution_count": 8,
      "outputs": []
    },
    {
      "cell_type": "code",
      "source": [
        "tesimg = os.listdir(TEST_DIRECTORY)\n",
        "#tesimg.remove('.ipynb_checkpoints')\n",
        "tesset = Molecules_test(tesimg, val_transform)\n",
        "tesloader = torch.utils.data.DataLoader(tesset, batch_size=batch_size,\n",
        "                                         shuffle=False)"
      ],
      "metadata": {
        "id": "zXYZnkCq6uOQ"
      },
      "execution_count": 9,
      "outputs": []
    },
    {
      "cell_type": "code",
      "source": [
        "ans = pd.DataFrame(columns = ['img_id', 'class_id'])\n",
        "with torch.no_grad():\n",
        "    for data in tesloader:\n",
        "        images, labels = data\n",
        "        images = images.to(device)\n",
        "        # calculate outputs by running images through the network\n",
        "        outputs = model(images)\n",
        "        # the class with the highest energy is what we choose as prediction\n",
        "        _, predicted = torch.max(outputs.data, 1)\n",
        "        d = pd.DataFrame(columns = ['img_id', 'class_id'])\n",
        "        d['img_id'] = labels\n",
        "        d[\"class_id\"] = [(int)(a) for a in predicted]\n",
        "        ans = ans.append(pd.DataFrame(d,columns = ['img_id', 'class_id']))\n",
        "print(ans)"
      ],
      "metadata": {
        "colab": {
          "base_uri": "https://localhost:8080/"
        },
        "id": "6CwElDpP629E",
        "outputId": "f881add6-2ed7-43b1-9850-94e1173d3c27"
      },
      "execution_count": 10,
      "outputs": [
        {
          "output_type": "stream",
          "name": "stdout",
          "text": [
            "     img_id class_id\n",
            "0   hitest2        1\n",
            "1   hitest1        1\n",
            "2   hitest3        1\n",
            "3   oxtest2        2\n",
            "4   oxtest1        2\n",
            "5   watest1        3\n",
            "6   watest2        3\n",
            "7   watest3        3\n",
            "8   wrtest1        0\n",
            "9   wrtest2        0\n",
            "10  oxtest3        2\n",
            "11  wrtest3        0\n"
          ]
        },
        {
          "output_type": "stream",
          "name": "stderr",
          "text": [
            "<ipython-input-10-08610a5035bb>:13: FutureWarning: The frame.append method is deprecated and will be removed from pandas in a future version. Use pandas.concat instead.\n",
            "  ans = ans.append(pd.DataFrame(d,columns = ['img_id', 'class_id']))\n"
          ]
        }
      ]
    }
  ]
}